{
 "cells": [
  {
   "cell_type": "code",
   "execution_count": 2,
   "metadata": {},
   "outputs": [],
   "source": [
    "import os\n",
    "import sys\n",
    "\n",
    "current_dir = os.getcwd()\n",
    "parent_dir = os.path.dirname(current_dir)\n",
    "sys.path.append(parent_dir)"
   ]
  },
  {
   "cell_type": "code",
   "execution_count": 3,
   "metadata": {},
   "outputs": [
    {
     "name": "stderr",
     "output_type": "stream",
     "text": [
      "/Users/sebasosa/Projects/arena-projects/model-steering-autoencoders/.venv/lib/python3.9/site-packages/urllib3/__init__.py:35: NotOpenSSLWarning: urllib3 v2 only supports OpenSSL 1.1.1+, currently the 'ssl' module is compiled with 'LibreSSL 2.8.3'. See: https://github.com/urllib3/urllib3/issues/3020\n",
      "  warnings.warn(\n",
      "/Users/sebasosa/Projects/arena-projects/model-steering-autoencoders/.venv/lib/python3.9/site-packages/tqdm/auto.py:21: TqdmWarning: IProgress not found. Please update jupyter and ipywidgets. See https://ipywidgets.readthedocs.io/en/stable/user_install.html\n",
      "  from .autonotebook import tqdm as notebook_tqdm\n"
     ]
    }
   ],
   "source": [
    "from typing import List\n",
    "\n",
    "import torch\n",
    "from models.autoencoder import AutoEncoder, AutoEncoderConfig\n",
    "from transformer_lens import HookedTransformer\n",
    "from transformer_lens.utils import download_file_from_hf"
   ]
  },
  {
   "cell_type": "code",
   "execution_count": 4,
   "metadata": {},
   "outputs": [
    {
     "data": {
      "text/plain": [
       "AutoEncoder()"
      ]
     },
     "execution_count": 4,
     "metadata": {},
     "output_type": "execute_result"
    }
   ],
   "source": [
    "VERSION_DICT = {\"run1\": 25, \"run2\": 47}\n",
    "\n",
    "\n",
    "def load_autoencoder_from_huggingface(versions: List[str] = [\"run1\", \"run2\"]):\n",
    "    state_dict = {}\n",
    "\n",
    "    for version in versions:\n",
    "        version_id = VERSION_DICT[version]\n",
    "        # Load the data from huggingface (both metadata and state dict)\n",
    "        sae_data: dict = download_file_from_hf(\n",
    "            \"NeelNanda/sparse_autoencoder\", f\"{version_id}_cfg.json\"\n",
    "        )\n",
    "        new_state_dict: dict = download_file_from_hf(\n",
    "            \"NeelNanda/sparse_autoencoder\", f\"{version_id}.pt\", force_is_torch=True\n",
    "        )\n",
    "        # Add new state dict to the existing one\n",
    "        for k, v in new_state_dict.items():\n",
    "            state_dict[k] = torch.stack([state_dict[k], v]) if k in state_dict else v\n",
    "\n",
    "    # Get data about the model dimensions, and use that to initialize our model (with 2 instances)\n",
    "    d_mlp = sae_data[\"d_mlp\"]\n",
    "    dict_mult = sae_data[\"dict_mult\"]\n",
    "    n_hidden_ae = d_mlp * dict_mult\n",
    "\n",
    "    cfg = AutoEncoderConfig(\n",
    "        n_instances=2,\n",
    "        n_input_ae=d_mlp,\n",
    "        n_hidden_ae=n_hidden_ae,\n",
    "    )\n",
    "\n",
    "    # Initialize our model, and load in state dict\n",
    "    autoencoder = AutoEncoder(cfg)\n",
    "    autoencoder.load_state_dict(state_dict)\n",
    "\n",
    "    return autoencoder\n",
    "\n",
    "\n",
    "autoencoder = load_autoencoder_from_huggingface()\n",
    "autoencoder"
   ]
  },
  {
   "cell_type": "code",
   "execution_count": null,
   "metadata": {},
   "outputs": [],
   "source": []
  }
 ],
 "metadata": {
  "kernelspec": {
   "display_name": ".venv",
   "language": "python",
   "name": "python3"
  },
  "language_info": {
   "codemirror_mode": {
    "name": "ipython",
    "version": 3
   },
   "file_extension": ".py",
   "mimetype": "text/x-python",
   "name": "python",
   "nbconvert_exporter": "python",
   "pygments_lexer": "ipython3",
   "version": "3.9.6"
  }
 },
 "nbformat": 4,
 "nbformat_minor": 2
}
